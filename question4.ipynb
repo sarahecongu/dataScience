{
 "cells": [
  {
   "cell_type": "markdown",
   "id": "623c754e",
   "metadata": {},
   "source": [
    "DCSE/009/SS"
   ]
  },
  {
   "cell_type": "code",
   "execution_count": null,
   "id": "a9fde114",
   "metadata": {},
   "outputs": [],
   "source": [
    "v = p(1+r/n)**(nt)"
   ]
  },
  {
   "cell_type": "code",
   "execution_count": null,
   "id": "beff53c1",
   "metadata": {},
   "outputs": [],
   "source": [
    "#asigning variables the values\n",
    "p = 2100 #principle\n",
    "r = 0.034 # anual interest rate\n",
    "n = 4 #Number of years that have been deposited yet\n",
    "t = 7 #Total number of years"
   ]
  },
  {
   "cell_type": "code",
   "execution_count": 1,
   "id": "b56716bc",
   "metadata": {},
   "outputs": [
    {
     "data": {
      "text/plain": [
       "2661.6108980682593"
      ]
     },
     "execution_count": 1,
     "metadata": {},
     "output_type": "execute_result"
    }
   ],
   "source": [
    "#balance after 7 years ids $266.2\n",
    "v = 2100*(1+0.034/4)**(4*7)\n",
    "v"
   ]
  },
  {
   "cell_type": "code",
   "execution_count": 3,
   "id": "3fbc72ed",
   "metadata": {},
   "outputs": [
    {
     "data": {
      "text/plain": [
       "2658.965091277534"
      ]
     },
     "execution_count": 3,
     "metadata": {},
     "output_type": "execute_result"
    }
   ],
   "source": [
    "#2 years time what is the total\n",
    "#the total value would be $2659\n",
    "v = 2100*(1+0.034/2)**(2*7)\n",
    "v"
   ]
  },
  {
   "cell_type": "code",
   "execution_count": 6,
   "id": "08414482",
   "metadata": {},
   "outputs": [],
   "source": [
    "#continously compounded\n",
    "v = (p)**(r*t)\n",
    "\n"
   ]
  },
  {
   "cell_type": "code",
   "execution_count": 7,
   "id": "0977f01d",
   "metadata": {},
   "outputs": [
    {
     "data": {
      "text/plain": [
       "6.175728457877729"
      ]
     },
     "execution_count": 7,
     "metadata": {},
     "output_type": "execute_result"
    }
   ],
   "source": [
    "v = (2100)**(0.034*7)\n",
    "v"
   ]
  },
  {
   "cell_type": "code",
   "execution_count": null,
   "id": "0a4c1b7b",
   "metadata": {},
   "outputs": [],
   "source": []
  },
  {
   "cell_type": "code",
   "execution_count": null,
   "id": "fb00070a",
   "metadata": {},
   "outputs": [],
   "source": []
  },
  {
   "cell_type": "code",
   "execution_count": null,
   "id": "d3b59569",
   "metadata": {},
   "outputs": [],
   "source": []
  }
 ],
 "metadata": {
  "kernelspec": {
   "display_name": "Python 3 (ipykernel)",
   "language": "python",
   "name": "python3"
  },
  "language_info": {
   "codemirror_mode": {
    "name": "ipython",
    "version": 3
   },
   "file_extension": ".py",
   "mimetype": "text/x-python",
   "name": "python",
   "nbconvert_exporter": "python",
   "pygments_lexer": "ipython3",
   "version": "3.10.5"
  }
 },
 "nbformat": 4,
 "nbformat_minor": 5
}
