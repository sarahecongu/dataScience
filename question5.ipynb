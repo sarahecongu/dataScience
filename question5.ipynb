{
 "cells": [
  {
   "cell_type": "code",
   "execution_count": 1,
   "id": "6acde6ec",
   "metadata": {},
   "outputs": [],
   "source": [
    "##importing necessary libraries\n",
    "import numpy as np\n",
    "import pandas as pd\n",
    "import matplotlib.pyplot as plt\n",
    "import seaborn as sn\n",
    "import sklearn as sk\n",
    "%matplotlib inline"
   ]
  },
  {
   "cell_type": "code",
   "execution_count": 2,
   "id": "6bade317",
   "metadata": {},
   "outputs": [
    {
     "data": {
      "text/html": [
       "<div>\n",
       "<style scoped>\n",
       "    .dataframe tbody tr th:only-of-type {\n",
       "        vertical-align: middle;\n",
       "    }\n",
       "\n",
       "    .dataframe tbody tr th {\n",
       "        vertical-align: top;\n",
       "    }\n",
       "\n",
       "    .dataframe thead th {\n",
       "        text-align: right;\n",
       "    }\n",
       "</style>\n",
       "<table border=\"1\" class=\"dataframe\">\n",
       "  <thead>\n",
       "    <tr style=\"text-align: right;\">\n",
       "      <th></th>\n",
       "      <th>VendorID</th>\n",
       "      <th>tpep_pickup_datetime</th>\n",
       "      <th>tpep_dropoff_datetime</th>\n",
       "      <th>passenger_count</th>\n",
       "      <th>trip_distance</th>\n",
       "      <th>RatecodeID</th>\n",
       "      <th>store_and_fwd_flag</th>\n",
       "      <th>PULocationID</th>\n",
       "      <th>DOLocationID</th>\n",
       "      <th>payment_type</th>\n",
       "      <th>fare_amount</th>\n",
       "      <th>extra</th>\n",
       "      <th>mta_tax</th>\n",
       "      <th>tip_amount</th>\n",
       "      <th>tolls_amount</th>\n",
       "      <th>improvement_surcharge</th>\n",
       "      <th>total_amount</th>\n",
       "      <th>congestion_surcharge</th>\n",
       "    </tr>\n",
       "  </thead>\n",
       "  <tbody>\n",
       "    <tr>\n",
       "      <th>0</th>\n",
       "      <td>2</td>\n",
       "      <td>7/15/2019 16:27</td>\n",
       "      <td>7/15/2019 16:44</td>\n",
       "      <td>3</td>\n",
       "      <td>2.02</td>\n",
       "      <td>1</td>\n",
       "      <td>N</td>\n",
       "      <td>186</td>\n",
       "      <td>233</td>\n",
       "      <td>1</td>\n",
       "      <td>12.0</td>\n",
       "      <td>1.0</td>\n",
       "      <td>0.5</td>\n",
       "      <td>4.08</td>\n",
       "      <td>0.0</td>\n",
       "      <td>0.3</td>\n",
       "      <td>20.38</td>\n",
       "      <td>2.5</td>\n",
       "    </tr>\n",
       "    <tr>\n",
       "      <th>1</th>\n",
       "      <td>2</td>\n",
       "      <td>7/17/2019 20:26</td>\n",
       "      <td>7/17/2019 20:40</td>\n",
       "      <td>6</td>\n",
       "      <td>1.59</td>\n",
       "      <td>1</td>\n",
       "      <td>N</td>\n",
       "      <td>141</td>\n",
       "      <td>161</td>\n",
       "      <td>2</td>\n",
       "      <td>10.0</td>\n",
       "      <td>0.5</td>\n",
       "      <td>0.5</td>\n",
       "      <td>0.00</td>\n",
       "      <td>0.0</td>\n",
       "      <td>0.3</td>\n",
       "      <td>13.80</td>\n",
       "      <td>2.5</td>\n",
       "    </tr>\n",
       "    <tr>\n",
       "      <th>2</th>\n",
       "      <td>2</td>\n",
       "      <td>7/6/2019 16:01</td>\n",
       "      <td>7/6/2019 16:10</td>\n",
       "      <td>1</td>\n",
       "      <td>1.69</td>\n",
       "      <td>1</td>\n",
       "      <td>N</td>\n",
       "      <td>246</td>\n",
       "      <td>249</td>\n",
       "      <td>2</td>\n",
       "      <td>8.5</td>\n",
       "      <td>0.0</td>\n",
       "      <td>0.5</td>\n",
       "      <td>0.00</td>\n",
       "      <td>0.0</td>\n",
       "      <td>0.3</td>\n",
       "      <td>11.80</td>\n",
       "      <td>2.5</td>\n",
       "    </tr>\n",
       "    <tr>\n",
       "      <th>3</th>\n",
       "      <td>1</td>\n",
       "      <td>7/18/2019 22:32</td>\n",
       "      <td>7/18/2019 22:35</td>\n",
       "      <td>1</td>\n",
       "      <td>0.90</td>\n",
       "      <td>1</td>\n",
       "      <td>N</td>\n",
       "      <td>229</td>\n",
       "      <td>141</td>\n",
       "      <td>1</td>\n",
       "      <td>4.5</td>\n",
       "      <td>3.0</td>\n",
       "      <td>0.5</td>\n",
       "      <td>1.65</td>\n",
       "      <td>0.0</td>\n",
       "      <td>0.3</td>\n",
       "      <td>9.95</td>\n",
       "      <td>2.5</td>\n",
       "    </tr>\n",
       "    <tr>\n",
       "      <th>4</th>\n",
       "      <td>2</td>\n",
       "      <td>7/19/2019 14:54</td>\n",
       "      <td>7/19/2019 15:19</td>\n",
       "      <td>1</td>\n",
       "      <td>4.79</td>\n",
       "      <td>1</td>\n",
       "      <td>N</td>\n",
       "      <td>237</td>\n",
       "      <td>107</td>\n",
       "      <td>1</td>\n",
       "      <td>19.5</td>\n",
       "      <td>0.0</td>\n",
       "      <td>0.5</td>\n",
       "      <td>5.70</td>\n",
       "      <td>0.0</td>\n",
       "      <td>0.3</td>\n",
       "      <td>28.50</td>\n",
       "      <td>2.5</td>\n",
       "    </tr>\n",
       "    <tr>\n",
       "      <th>...</th>\n",
       "      <td>...</td>\n",
       "      <td>...</td>\n",
       "      <td>...</td>\n",
       "      <td>...</td>\n",
       "      <td>...</td>\n",
       "      <td>...</td>\n",
       "      <td>...</td>\n",
       "      <td>...</td>\n",
       "      <td>...</td>\n",
       "      <td>...</td>\n",
       "      <td>...</td>\n",
       "      <td>...</td>\n",
       "      <td>...</td>\n",
       "      <td>...</td>\n",
       "      <td>...</td>\n",
       "      <td>...</td>\n",
       "      <td>...</td>\n",
       "      <td>...</td>\n",
       "    </tr>\n",
       "    <tr>\n",
       "      <th>195</th>\n",
       "      <td>2</td>\n",
       "      <td>1/18/2019 8:42</td>\n",
       "      <td>1/18/2019 8:56</td>\n",
       "      <td>1</td>\n",
       "      <td>1.18</td>\n",
       "      <td>1</td>\n",
       "      <td>N</td>\n",
       "      <td>43</td>\n",
       "      <td>237</td>\n",
       "      <td>1</td>\n",
       "      <td>10.0</td>\n",
       "      <td>0.0</td>\n",
       "      <td>0.5</td>\n",
       "      <td>2.16</td>\n",
       "      <td>0.0</td>\n",
       "      <td>0.3</td>\n",
       "      <td>12.96</td>\n",
       "      <td>0.0</td>\n",
       "    </tr>\n",
       "    <tr>\n",
       "      <th>196</th>\n",
       "      <td>1</td>\n",
       "      <td>1/19/2019 4:34</td>\n",
       "      <td>1/19/2019 4:43</td>\n",
       "      <td>1</td>\n",
       "      <td>2.30</td>\n",
       "      <td>1</td>\n",
       "      <td>N</td>\n",
       "      <td>148</td>\n",
       "      <td>234</td>\n",
       "      <td>1</td>\n",
       "      <td>9.5</td>\n",
       "      <td>0.5</td>\n",
       "      <td>0.5</td>\n",
       "      <td>2.15</td>\n",
       "      <td>0.0</td>\n",
       "      <td>0.3</td>\n",
       "      <td>12.95</td>\n",
       "      <td>0.0</td>\n",
       "    </tr>\n",
       "    <tr>\n",
       "      <th>197</th>\n",
       "      <td>2</td>\n",
       "      <td>1/5/2019 10:37</td>\n",
       "      <td>1/5/2019 10:42</td>\n",
       "      <td>1</td>\n",
       "      <td>0.83</td>\n",
       "      <td>1</td>\n",
       "      <td>N</td>\n",
       "      <td>237</td>\n",
       "      <td>263</td>\n",
       "      <td>1</td>\n",
       "      <td>5.0</td>\n",
       "      <td>0.0</td>\n",
       "      <td>0.5</td>\n",
       "      <td>1.16</td>\n",
       "      <td>0.0</td>\n",
       "      <td>0.3</td>\n",
       "      <td>6.96</td>\n",
       "      <td>0.0</td>\n",
       "    </tr>\n",
       "    <tr>\n",
       "      <th>198</th>\n",
       "      <td>2</td>\n",
       "      <td>1/23/2019 10:36</td>\n",
       "      <td>1/23/2019 10:44</td>\n",
       "      <td>2</td>\n",
       "      <td>1.12</td>\n",
       "      <td>1</td>\n",
       "      <td>N</td>\n",
       "      <td>144</td>\n",
       "      <td>113</td>\n",
       "      <td>2</td>\n",
       "      <td>7.0</td>\n",
       "      <td>0.0</td>\n",
       "      <td>0.5</td>\n",
       "      <td>0.00</td>\n",
       "      <td>0.0</td>\n",
       "      <td>0.3</td>\n",
       "      <td>7.80</td>\n",
       "      <td>0.0</td>\n",
       "    </tr>\n",
       "    <tr>\n",
       "      <th>199</th>\n",
       "      <td>2</td>\n",
       "      <td>1/30/2019 6:55</td>\n",
       "      <td>1/30/2019 7:07</td>\n",
       "      <td>5</td>\n",
       "      <td>2.41</td>\n",
       "      <td>1</td>\n",
       "      <td>N</td>\n",
       "      <td>209</td>\n",
       "      <td>107</td>\n",
       "      <td>1</td>\n",
       "      <td>10.5</td>\n",
       "      <td>0.0</td>\n",
       "      <td>0.5</td>\n",
       "      <td>1.00</td>\n",
       "      <td>0.0</td>\n",
       "      <td>0.3</td>\n",
       "      <td>12.30</td>\n",
       "      <td>0.0</td>\n",
       "    </tr>\n",
       "  </tbody>\n",
       "</table>\n",
       "<p>200 rows × 18 columns</p>\n",
       "</div>"
      ],
      "text/plain": [
       "     VendorID tpep_pickup_datetime tpep_dropoff_datetime  passenger_count  \\\n",
       "0           2      7/15/2019 16:27       7/15/2019 16:44                3   \n",
       "1           2      7/17/2019 20:26       7/17/2019 20:40                6   \n",
       "2           2       7/6/2019 16:01        7/6/2019 16:10                1   \n",
       "3           1      7/18/2019 22:32       7/18/2019 22:35                1   \n",
       "4           2      7/19/2019 14:54       7/19/2019 15:19                1   \n",
       "..        ...                  ...                   ...              ...   \n",
       "195         2       1/18/2019 8:42        1/18/2019 8:56                1   \n",
       "196         1       1/19/2019 4:34        1/19/2019 4:43                1   \n",
       "197         2       1/5/2019 10:37        1/5/2019 10:42                1   \n",
       "198         2      1/23/2019 10:36       1/23/2019 10:44                2   \n",
       "199         2       1/30/2019 6:55        1/30/2019 7:07                5   \n",
       "\n",
       "     trip_distance  RatecodeID store_and_fwd_flag  PULocationID  DOLocationID  \\\n",
       "0             2.02           1                  N           186           233   \n",
       "1             1.59           1                  N           141           161   \n",
       "2             1.69           1                  N           246           249   \n",
       "3             0.90           1                  N           229           141   \n",
       "4             4.79           1                  N           237           107   \n",
       "..             ...         ...                ...           ...           ...   \n",
       "195           1.18           1                  N            43           237   \n",
       "196           2.30           1                  N           148           234   \n",
       "197           0.83           1                  N           237           263   \n",
       "198           1.12           1                  N           144           113   \n",
       "199           2.41           1                  N           209           107   \n",
       "\n",
       "     payment_type  fare_amount  extra  mta_tax  tip_amount  tolls_amount  \\\n",
       "0               1         12.0    1.0      0.5        4.08           0.0   \n",
       "1               2         10.0    0.5      0.5        0.00           0.0   \n",
       "2               2          8.5    0.0      0.5        0.00           0.0   \n",
       "3               1          4.5    3.0      0.5        1.65           0.0   \n",
       "4               1         19.5    0.0      0.5        5.70           0.0   \n",
       "..            ...          ...    ...      ...         ...           ...   \n",
       "195             1         10.0    0.0      0.5        2.16           0.0   \n",
       "196             1          9.5    0.5      0.5        2.15           0.0   \n",
       "197             1          5.0    0.0      0.5        1.16           0.0   \n",
       "198             2          7.0    0.0      0.5        0.00           0.0   \n",
       "199             1         10.5    0.0      0.5        1.00           0.0   \n",
       "\n",
       "     improvement_surcharge  total_amount  congestion_surcharge  \n",
       "0                      0.3         20.38                   2.5  \n",
       "1                      0.3         13.80                   2.5  \n",
       "2                      0.3         11.80                   2.5  \n",
       "3                      0.3          9.95                   2.5  \n",
       "4                      0.3         28.50                   2.5  \n",
       "..                     ...           ...                   ...  \n",
       "195                    0.3         12.96                   0.0  \n",
       "196                    0.3         12.95                   0.0  \n",
       "197                    0.3          6.96                   0.0  \n",
       "198                    0.3          7.80                   0.0  \n",
       "199                    0.3         12.30                   0.0  \n",
       "\n",
       "[200 rows x 18 columns]"
      ]
     },
     "execution_count": 2,
     "metadata": {},
     "output_type": "execute_result"
    }
   ],
   "source": [
    "data_frame = pd.read_csv('taxi.csv')\n",
    "data_frame"
   ]
  },
  {
   "cell_type": "code",
   "execution_count": 5,
   "id": "c254f7e1",
   "metadata": {},
   "outputs": [
    {
     "data": {
      "text/plain": [
       "Index(['VendorID', 'tpep_pickup_datetime', 'tpep_dropoff_datetime',\n",
       "       'passenger_count', 'trip_distance', 'RatecodeID', 'store_and_fwd_flag',\n",
       "       'PULocationID', 'DOLocationID', 'payment_type', 'fare_amount', 'extra',\n",
       "       'mta_tax', 'tip_amount', 'tolls_amount', 'improvement_surcharge',\n",
       "       'total_amount', 'congestion_surcharge'],\n",
       "      dtype='object')"
      ]
     },
     "execution_count": 5,
     "metadata": {},
     "output_type": "execute_result"
    }
   ],
   "source": [
    "data_frame.columns\n"
   ]
  },
  {
   "cell_type": "code",
   "execution_count": 4,
   "id": "438c4fde",
   "metadata": {},
   "outputs": [],
   "source": [
    "#choose variables both independent and dependent variables\n"
   ]
  },
  {
   "cell_type": "code",
   "execution_count": 7,
   "id": "f9ad0a66",
   "metadata": {},
   "outputs": [
    {
     "data": {
      "text/plain": [
       "0      20.38\n",
       "1      13.80\n",
       "2      11.80\n",
       "3       9.95\n",
       "4      28.50\n",
       "       ...  \n",
       "195    12.96\n",
       "196    12.95\n",
       "197     6.96\n",
       "198     7.80\n",
       "199    12.30\n",
       "Name: total_amount, Length: 200, dtype: float64"
      ]
     },
     "execution_count": 7,
     "metadata": {},
     "output_type": "execute_result"
    }
   ],
   "source": [
    "#total amount\n",
    "w = data_frame.total_amount\n",
    "w"
   ]
  },
  {
   "cell_type": "code",
   "execution_count": 9,
   "id": "e2de8118",
   "metadata": {},
   "outputs": [
    {
     "data": {
      "text/plain": [
       "0      2.02\n",
       "1      1.59\n",
       "2      1.69\n",
       "3      0.90\n",
       "4      4.79\n",
       "       ... \n",
       "195    1.18\n",
       "196    2.30\n",
       "197    0.83\n",
       "198    1.12\n",
       "199    2.41\n",
       "Name: trip_distance, Length: 200, dtype: float64"
      ]
     },
     "execution_count": 9,
     "metadata": {},
     "output_type": "execute_result"
    }
   ],
   "source": [
    "# independent variable\n",
    "x =data_frame.trip_distance\n",
    "x"
   ]
  },
  {
   "cell_type": "code",
   "execution_count": null,
   "id": "8e82ffa0",
   "metadata": {},
   "outputs": [],
   "source": [
    "#choose a class of model\n",
    "from sklearn.linear_model import LinearRegression"
   ]
  },
  {
   "cell_type": "code",
   "execution_count": 10,
   "id": "126d05ab",
   "metadata": {},
   "outputs": [
    {
     "data": {
      "text/plain": [
       "[<matplotlib.lines.Line2D at 0x23b1658cbb0>]"
      ]
     },
     "execution_count": 10,
     "metadata": {},
     "output_type": "execute_result"
    },
    {
     "data": {
      "image/png": "[encoded data removed]",
      "text/plain": [
       "<Figure size 432x288 with 1 Axes>"
      ]
     },
     "metadata": {
      "needs_background": "light"
     },
     "output_type": "display_data"
    }
   ],
   "source": [
    "#visualizing total amount\n",
    "plt.plot(w)"
   ]
  },
  {
   "cell_type": "code",
   "execution_count": 11,
   "id": "7436e689",
   "metadata": {},
   "outputs": [
    {
     "data": {
      "text/plain": [
       "[<matplotlib.lines.Line2D at 0x23b186602b0>]"
      ]
     },
     "execution_count": 11,
     "metadata": {},
     "output_type": "execute_result"
    },
    {
     "data": {
      "image/png": "[encoded data removed]",
      "text/plain": [
       "<Figure size 432x288 with 1 Axes>"
      ]
     },
     "metadata": {
      "needs_background": "light"
     },
     "output_type": "display_data"
    }
   ],
   "source": [
    "#visuailizing trip distance\n",
    "plt.plot(x)"
   ]
  },
  {
   "cell_type": "code",
   "execution_count": 14,
   "id": "2b0e7700",
   "metadata": {},
   "outputs": [
    {
     "data": {
      "text/plain": [
       "Text(0.5, 1.0, 'Scatter diagram of trip distance and total amount')"
      ]
     },
     "execution_count": 14,
     "metadata": {},
     "output_type": "execute_result"
    },
    {
     "data": {
      "image/png": "[encoded data removed]",
      "text/plain": [
       "<Figure size 432x288 with 1 Axes>"
      ]
     },
     "metadata": {
      "needs_background": "light"
     },
     "output_type": "display_data"
    }
   ],
   "source": [
    "#visualizing both total amount and trip distance\n",
    "plt.plot(w,x,'o');\n",
    "plt.xlabel(\"trip-distance\")\n",
    "plt.ylabel(\"total amount\")\n",
    "plt.title('Scatter diagram of trip distance and total amount') "
   ]
  },
  {
   "cell_type": "markdown",
   "id": "1ec48683",
   "metadata": {},
   "source": [
    "It means that the further the trip distance the higher the total amount of money collected"
   ]
  },
  {
   "cell_type": "code",
   "execution_count": 15,
   "id": "f390807d",
   "metadata": {},
   "outputs": [
    {
     "data": {
      "text/plain": [
       "0      12.0\n",
       "1      10.0\n",
       "2       8.5\n",
       "3       4.5\n",
       "4      19.5\n",
       "       ... \n",
       "195    10.0\n",
       "196     9.5\n",
       "197     5.0\n",
       "198     7.0\n",
       "199    10.5\n",
       "Name: fare_amount, Length: 200, dtype: float64"
      ]
     },
     "execution_count": 15,
     "metadata": {},
     "output_type": "execute_result"
    }
   ],
   "source": [
    "t = data_frame.fare_amount\n",
    "t"
   ]
  },
  {
   "cell_type": "code",
   "execution_count": 16,
   "id": "272cd6c6",
   "metadata": {},
   "outputs": [
    {
     "data": {
      "text/plain": [
       "0      4.08\n",
       "1      0.00\n",
       "2      0.00\n",
       "3      1.65\n",
       "4      5.70\n",
       "       ... \n",
       "195    2.16\n",
       "196    2.15\n",
       "197    1.16\n",
       "198    0.00\n",
       "199    1.00\n",
       "Name: tip_amount, Length: 200, dtype: float64"
      ]
     },
     "execution_count": 16,
     "metadata": {},
     "output_type": "execute_result"
    }
   ],
   "source": [
    "y = data_frame.tip_amount\n",
    "y"
   ]
  },
  {
   "cell_type": "code",
   "execution_count": 17,
   "id": "8ecd92ac",
   "metadata": {},
   "outputs": [
    {
     "data": {
      "text/plain": [
       "[<matplotlib.lines.Line2D at 0x23b18718e80>]"
      ]
     },
     "execution_count": 17,
     "metadata": {},
     "output_type": "execute_result"
    },
    {
     "data": {
      "image/png": "[encoded data removed]",
      "text/plain": [
       "<Figure size 432x288 with 1 Axes>"
      ]
     },
     "metadata": {
      "needs_background": "light"
     },
     "output_type": "display_data"
    }
   ],
   "source": [
    "#visualizing  fare amount\n",
    "plt.plot(t)"
   ]
  },
  {
   "cell_type": "code",
   "execution_count": 18,
   "id": "6b633ecf",
   "metadata": {},
   "outputs": [
    {
     "data": {
      "text/plain": [
       "[<matplotlib.lines.Line2D at 0x23b18785930>]"
      ]
     },
     "execution_count": 18,
     "metadata": {},
     "output_type": "execute_result"
    },
    {
     "data": {
      "image/png": "[encoded data removed]",
      "text/plain": [
       "<Figure size 432x288 with 1 Axes>"
      ]
     },
     "metadata": {
      "needs_background": "light"
     },
     "output_type": "display_data"
    }
   ],
   "source": [
    "#visualizing tip_amount\n",
    "plt.plot(y)"
   ]
  },
  {
   "cell_type": "code",
   "execution_count": 60,
   "id": "3f0efc8c",
   "metadata": {},
   "outputs": [
    {
     "data": {
      "text/plain": [
       "Text(0.5, 1.0, 'Scatter diagram of fare amount and tip amount')"
      ]
     },
     "execution_count": 60,
     "metadata": {},
     "output_type": "execute_result"
    },
    {
     "data": {
      "image/png": "[encoded data removed]",
      "text/plain": [
       "<Figure size 432x288 with 1 Axes>"
      ]
     },
     "metadata": {
      "needs_background": "light"
     },
     "output_type": "display_data"
    }
   ],
   "source": [
    "##visualzing both fare amount and tip amount\n",
    "plt.plot(t,y,'o');\n",
    "plt.xlabel(\"fare amount\")\n",
    "plt.ylabel(\"tip amount\")\n",
    "plt.title('Scatter diagram of fare amount and tip amount')"
   ]
  },
  {
   "cell_type": "markdown",
   "id": "de15beb8",
   "metadata": {},
   "source": [
    "this means that when the fare amount is reduce from the original amount,then many customers will tip the conductor more money for beuing fair to them interms of his services"
   ]
  },
  {
   "cell_type": "code",
   "execution_count": 21,
   "id": "13e63b1a",
   "metadata": {},
   "outputs": [
    {
     "data": {
      "text/html": [
       "<div>\n",
       "<style scoped>\n",
       "    .dataframe tbody tr th:only-of-type {\n",
       "        vertical-align: middle;\n",
       "    }\n",
       "\n",
       "    .dataframe tbody tr th {\n",
       "        vertical-align: top;\n",
       "    }\n",
       "\n",
       "    .dataframe thead th {\n",
       "        text-align: right;\n",
       "    }\n",
       "</style>\n",
       "<table border=\"1\" class=\"dataframe\">\n",
       "  <thead>\n",
       "    <tr style=\"text-align: right;\">\n",
       "      <th></th>\n",
       "      <th>trip_distance</th>\n",
       "      <th>tip_amount</th>\n",
       "      <th>total_amount</th>\n",
       "      <th>fare_amount</th>\n",
       "    </tr>\n",
       "  </thead>\n",
       "  <tbody>\n",
       "    <tr>\n",
       "      <th>trip_distance</th>\n",
       "      <td>1.000000</td>\n",
       "      <td>0.429868</td>\n",
       "      <td>0.942506</td>\n",
       "      <td>0.933743</td>\n",
       "    </tr>\n",
       "    <tr>\n",
       "      <th>tip_amount</th>\n",
       "      <td>0.429868</td>\n",
       "      <td>1.000000</td>\n",
       "      <td>0.494920</td>\n",
       "      <td>0.358010</td>\n",
       "    </tr>\n",
       "    <tr>\n",
       "      <th>total_amount</th>\n",
       "      <td>0.942506</td>\n",
       "      <td>0.494920</td>\n",
       "      <td>1.000000</td>\n",
       "      <td>0.981740</td>\n",
       "    </tr>\n",
       "    <tr>\n",
       "      <th>fare_amount</th>\n",
       "      <td>0.933743</td>\n",
       "      <td>0.358010</td>\n",
       "      <td>0.981740</td>\n",
       "      <td>1.000000</td>\n",
       "    </tr>\n",
       "  </tbody>\n",
       "</table>\n",
       "</div>"
      ],
      "text/plain": [
       "               trip_distance  tip_amount  total_amount  fare_amount\n",
       "trip_distance       1.000000    0.429868      0.942506     0.933743\n",
       "tip_amount          0.429868    1.000000      0.494920     0.358010\n",
       "total_amount        0.942506    0.494920      1.000000     0.981740\n",
       "fare_amount         0.933743    0.358010      0.981740     1.000000"
      ]
     },
     "execution_count": 21,
     "metadata": {},
     "output_type": "execute_result"
    }
   ],
   "source": [
    "#what is the relationship\n",
    "s =['trip_distance','tip_amount','total_amount','fare_amount']\n",
    "v = data_frame[s]\n",
    "v.corr()"
   ]
  },
  {
   "cell_type": "markdown",
   "id": "3b52ed43",
   "metadata": {},
   "source": [
    "There is a positive relationship between fare amount and total amount. This can be seen from the positive  values. The relationship is moderate(0.98). This means that people who pay the total amount increase the fare amount."
   ]
  },
  {
   "cell_type": "code",
   "execution_count": 22,
   "id": "2ba1b3d8",
   "metadata": {},
   "outputs": [],
   "source": [
    "#importing the linear Regression class of the modelling\n",
    "import statsmodels.formula.api as smf "
   ]
  },
  {
   "cell_type": "code",
   "execution_count": 24,
   "id": "28677d0a",
   "metadata": {},
   "outputs": [
    {
     "data": {
      "text/plain": [
       "Intercept    7.437773\n",
       "x            3.409864\n",
       "dtype: float64"
      ]
     },
     "execution_count": 24,
     "metadata": {},
     "output_type": "execute_result"
    }
   ],
   "source": [
    "#fitting a simple linear regression\n",
    "result = smf.ols('w~ x', data=data_frame).fit()\n",
    "result.params\n"
   ]
  },
  {
   "cell_type": "markdown",
   "id": "15f70b11",
   "metadata": {},
   "source": [
    "y=mx+c\n",
    "? = 7.44x +3.4\n",
    "if they increase trip distance by 1km then the total amount will also increase by $1 "
   ]
  },
  {
   "cell_type": "code",
   "execution_count": 25,
   "id": "eed64885",
   "metadata": {},
   "outputs": [
    {
     "data": {
      "text/plain": [
       "Intercept    2.005790\n",
       "x            0.310181\n",
       "t            0.952092\n",
       "y            1.155560\n",
       "dtype: float64"
      ]
     },
     "execution_count": 25,
     "metadata": {},
     "output_type": "execute_result"
    }
   ],
   "source": [
    "# fitting multiple linear regression\n",
    "results = smf.ols(\"w ~ x +t + y\", data=data_frame).fit()\n",
    "results.params"
   ]
  },
  {
   "cell_type": "markdown",
   "id": "dc961ba7",
   "metadata": {},
   "source": [
    "y=c+ m1x1 +m2x2 +m3x3 +---+mnxn +c\n",
    "if they the trip distance by  (1km) keeping other factors such as fare amount,tip amount what will happen to total amount (it will also increase by $1 "
   ]
  },
  {
   "cell_type": "markdown",
   "id": "4fee32b3",
   "metadata": {},
   "source": [
    "choosing a class for mmodelling"
   ]
  },
  {
   "cell_type": "code",
   "execution_count": 26,
   "id": "5bb9cbf8",
   "metadata": {},
   "outputs": [
    {
     "data": {
      "text/html": [
       "<style>#sk-container-id-1 {color: black;background-color: white;}#sk-container-id-1 pre{padding: 0;}#sk-container-id-1 div.sk-toggleable {background-color: white;}#sk-container-id-1 label.sk-toggleable__label {cursor: pointer;display: block;width: 100%;margin-bottom: 0;padding: 0.3em;box-sizing: border-box;text-align: center;}#sk-container-id-1 label.sk-toggleable__label-arrow:before {content: \"▸\";float: left;margin-right: 0.25em;color: #696969;}#sk-container-id-1 label.sk-toggleable__label-arrow:hover:before {color: black;}#sk-container-id-1 div.sk-estimator:hover label.sk-toggleable__label-arrow:before {color: black;}#sk-container-id-1 div.sk-toggleable__content {max-height: 0;max-width: 0;overflow: hidden;text-align: left;background-color: #f0f8ff;}#sk-container-id-1 div.sk-toggleable__content pre {margin: 0.2em;color: black;border-radius: 0.25em;background-color: #f0f8ff;}#sk-container-id-1 input.sk-toggleable__control:checked~div.sk-toggleable__content {max-height: 200px;max-width: 100%;overflow: auto;}#sk-container-id-1 input.sk-toggleable__control:checked~label.sk-toggleable__label-arrow:before {content: \"▾\";}#sk-container-id-1 div.sk-estimator input.sk-toggleable__control:checked~label.sk-toggleable__label {background-color: #d4ebff;}#sk-container-id-1 div.sk-label input.sk-toggleable__control:checked~label.sk-toggleable__label {background-color: #d4ebff;}#sk-container-id-1 input.sk-hidden--visually {border: 0;clip: rect(1px 1px 1px 1px);clip: rect(1px, 1px, 1px, 1px);height: 1px;margin: -1px;overflow: hidden;padding: 0;position: absolute;width: 1px;}#sk-container-id-1 div.sk-estimator {font-family: monospace;background-color: #f0f8ff;border: 1px dotted black;border-radius: 0.25em;box-sizing: border-box;margin-bottom: 0.5em;}#sk-container-id-1 div.sk-estimator:hover {background-color: #d4ebff;}#sk-container-id-1 div.sk-parallel-item::after {content: \"\";width: 100%;border-bottom: 1px solid gray;flex-grow: 1;}#sk-container-id-1 div.sk-label:hover label.sk-toggleable__label {background-color: #d4ebff;}#sk-container-id-1 div.sk-serial::before {content: \"\";position: absolute;border-left: 1px solid gray;box-sizing: border-box;top: 0;bottom: 0;left: 50%;z-index: 0;}#sk-container-id-1 div.sk-serial {display: flex;flex-direction: column;align-items: center;background-color: white;padding-right: 0.2em;padding-left: 0.2em;position: relative;}#sk-container-id-1 div.sk-item {position: relative;z-index: 1;}#sk-container-id-1 div.sk-parallel {display: flex;align-items: stretch;justify-content: center;background-color: white;position: relative;}#sk-container-id-1 div.sk-item::before, #sk-container-id-1 div.sk-parallel-item::before {content: \"\";position: absolute;border-left: 1px solid gray;box-sizing: border-box;top: 0;bottom: 0;left: 50%;z-index: -1;}#sk-container-id-1 div.sk-parallel-item {display: flex;flex-direction: column;z-index: 1;position: relative;background-color: white;}#sk-container-id-1 div.sk-parallel-item:first-child::after {align-self: flex-end;width: 50%;}#sk-container-id-1 div.sk-parallel-item:last-child::after {align-self: flex-start;width: 50%;}#sk-container-id-1 div.sk-parallel-item:only-child::after {width: 0;}#sk-container-id-1 div.sk-dashed-wrapped {border: 1px dashed gray;margin: 0 0.4em 0.5em 0.4em;box-sizing: border-box;padding-bottom: 0.4em;background-color: white;}#sk-container-id-1 div.sk-label label {font-family: monospace;font-weight: bold;display: inline-block;line-height: 1.2em;}#sk-container-id-1 div.sk-label-container {text-align: center;}#sk-container-id-1 div.sk-container {/* jupyter's `normalize.less` sets `[hidden] { display: none; }` but bootstrap.min.css set `[hidden] { display: none !important; }` so we also need the `!important` here to be able to override the default hidden behavior on the sphinx rendered scikit-learn.org. See: https://github.com/scikit-learn/scikit-learn/issues/21755 */display: inline-block !important;position: relative;}#sk-container-id-1 div.sk-text-repr-fallback {display: none;}</style><div id=\"sk-container-id-1\" class=\"sk-top-container\"><div class=\"sk-text-repr-fallback\"><pre>LinearRegression()</pre><b>In a Jupyter environment, please rerun this cell to show the HTML representation or trust the notebook. <br />On GitHub, the HTML representation is unable to render, please try loading this page with nbviewer.org.</b></div><div class=\"sk-container\" hidden><div class=\"sk-item\"><div class=\"sk-estimator sk-toggleable\"><input class=\"sk-toggleable__control sk-hidden--visually\" id=\"sk-estimator-id-1\" type=\"checkbox\" checked><label for=\"sk-estimator-id-1\" class=\"sk-toggleable__label sk-toggleable__label-arrow\">LinearRegression</label><div class=\"sk-toggleable__content\"><pre>LinearRegression()</pre></div></div></div></div></div>"
      ],
      "text/plain": [
       "LinearRegression()"
      ]
     },
     "execution_count": 26,
     "metadata": {},
     "output_type": "execute_result"
    }
   ],
   "source": [
    "Training_model = LinearRegression(fit_intercept = True) #trainng a class model\n",
    "Training_model"
   ]
  },
  {
   "cell_type": "code",
   "execution_count": 27,
   "id": "af516285",
   "metadata": {},
   "outputs": [
    {
     "name": "stderr",
     "output_type": "stream",
     "text": [
      "C:\\Users\\Adequate Minister\\AppData\\Local\\Temp\\ipykernel_7072\\2539489054.py:2: FutureWarning: Support for multi-dimensional indexing (e.g. `obj[:, None]`) is deprecated and will be removed in a future version.  Convert to a numpy array before indexing instead.\n",
      "  w = w[:,np.newaxis]\n"
     ]
    },
    {
     "data": {
      "text/plain": [
       "array([[ 20.38],\n",
       "       [ 13.8 ],\n",
       "       [ 11.8 ],\n",
       "       [  9.95],\n",
       "       [ 28.5 ],\n",
       "       [ 37.28],\n",
       "       [ 16.44],\n",
       "       [ 10.3 ],\n",
       "       [ 18.8 ],\n",
       "       [ 12.3 ],\n",
       "       [ 10.8 ],\n",
       "       [ 13.56],\n",
       "       [ 17.15],\n",
       "       [ 13.8 ],\n",
       "       [  8.3 ],\n",
       "       [ 15.34],\n",
       "       [ 44.75],\n",
       "       [  9.35],\n",
       "       [ 17.8 ],\n",
       "       [ 18.3 ],\n",
       "       [ 43.07],\n",
       "       [  5.3 ],\n",
       "       [ 10.35],\n",
       "       [ 14.3 ],\n",
       "       [ 26.8 ],\n",
       "       [ 15.8 ],\n",
       "       [ 11.76],\n",
       "       [  9.3 ],\n",
       "       [ 15.35],\n",
       "       [ 27.35],\n",
       "       [ 11.75],\n",
       "       [ 22.55],\n",
       "       [ 31.8 ],\n",
       "       [ 11.8 ],\n",
       "       [ 11.3 ],\n",
       "       [ 15.96],\n",
       "       [125.3 ],\n",
       "       [ 29.8 ],\n",
       "       [ 12.96],\n",
       "       [ 12.96],\n",
       "       [ 49.8 ],\n",
       "       [ 22.56],\n",
       "       [ 17.8 ],\n",
       "       [ 29.91],\n",
       "       [ 47.3 ],\n",
       "       [ 15.87],\n",
       "       [ 10.3 ],\n",
       "       [ 17.15],\n",
       "       [  7.8 ],\n",
       "       [ 14.16],\n",
       "       [ 31.3 ],\n",
       "       [ 30.8 ],\n",
       "       [ 12.96],\n",
       "       [ 13.8 ],\n",
       "       [ 52.4 ],\n",
       "       [ 10.8 ],\n",
       "       [ 21.3 ],\n",
       "       [ 14.16],\n",
       "       [ 17.16],\n",
       "       [  8.8 ],\n",
       "       [ 14.75],\n",
       "       [ 21.8 ],\n",
       "       [ 14.76],\n",
       "       [  9.96],\n",
       "       [ 12.85],\n",
       "       [ 14.8 ],\n",
       "       [ 21.36],\n",
       "       [ 16.8 ],\n",
       "       [ 11.8 ],\n",
       "       [ 20.15],\n",
       "       [ 12.3 ],\n",
       "       [ 14.3 ],\n",
       "       [ 64.92],\n",
       "       [ 82.  ],\n",
       "       [ 25.8 ],\n",
       "       [  8.8 ],\n",
       "       [ 14.3 ],\n",
       "       [ 20.3 ],\n",
       "       [ 14.14],\n",
       "       [ 23.76],\n",
       "       [ 27.8 ],\n",
       "       [  6.3 ],\n",
       "       [ 19.32],\n",
       "       [ 20.3 ],\n",
       "       [  9.55],\n",
       "       [ 12.3 ],\n",
       "       [ 15.96],\n",
       "       [ 12.36],\n",
       "       [ 31.56],\n",
       "       [ 23.5 ],\n",
       "       [ 17.8 ],\n",
       "       [ 11.  ],\n",
       "       [ 10.3 ],\n",
       "       [ 30.8 ],\n",
       "       [ 59.8 ],\n",
       "       [ 16.  ],\n",
       "       [ 13.55],\n",
       "       [ 13.3 ],\n",
       "       [ 30.25],\n",
       "       [ 55.8 ],\n",
       "       [  8.5 ],\n",
       "       [  9.96],\n",
       "       [  9.35],\n",
       "       [ 13.  ],\n",
       "       [  6.  ],\n",
       "       [ 26.3 ],\n",
       "       [ 18.74],\n",
       "       [  5.8 ],\n",
       "       [ 55.8 ],\n",
       "       [ 12.36],\n",
       "       [  9.95],\n",
       "       [  7.06],\n",
       "       [ 15.96],\n",
       "       [ 15.8 ],\n",
       "       [  5.37],\n",
       "       [ 58.86],\n",
       "       [  9.3 ],\n",
       "       [ 11.3 ],\n",
       "       [  5.3 ],\n",
       "       [  9.75],\n",
       "       [ 13.56],\n",
       "       [ 62.56],\n",
       "       [  6.96],\n",
       "       [  8.15],\n",
       "       [ 11.33],\n",
       "       [ 63.06],\n",
       "       [  9.8 ],\n",
       "       [ 32.16],\n",
       "       [ 37.56],\n",
       "       [ 15.3 ],\n",
       "       [ 50.3 ],\n",
       "       [  9.36],\n",
       "       [  9.95],\n",
       "       [ 58.56],\n",
       "       [ 73.2 ],\n",
       "       [  8.8 ],\n",
       "       [  4.3 ],\n",
       "       [ 13.55],\n",
       "       [  5.8 ],\n",
       "       [ 11.3 ],\n",
       "       [  9.35],\n",
       "       [ 13.3 ],\n",
       "       [  9.36],\n",
       "       [ 24.75],\n",
       "       [  8.76],\n",
       "       [ 10.3 ],\n",
       "       [  9.35],\n",
       "       [ 10.56],\n",
       "       [  5.8 ],\n",
       "       [  8.16],\n",
       "       [  9.35],\n",
       "       [ 16.55],\n",
       "       [  7.8 ],\n",
       "       [ 70.3 ],\n",
       "       [ 58.08],\n",
       "       [ 58.56],\n",
       "       [ 17.16],\n",
       "       [ 25.8 ],\n",
       "       [ 11.33],\n",
       "       [  6.96],\n",
       "       [  6.3 ],\n",
       "       [ 47.56],\n",
       "       [ 11.16],\n",
       "       [ 15.95],\n",
       "       [  6.8 ],\n",
       "       [  8.3 ],\n",
       "       [ 37.25],\n",
       "       [ 17.16],\n",
       "       [ 15.3 ],\n",
       "       [ 27.35],\n",
       "       [ 10.8 ],\n",
       "       [ 19.56],\n",
       "       [ 11.  ],\n",
       "       [ 10.38],\n",
       "       [ 16.8 ],\n",
       "       [  5.8 ],\n",
       "       [  8.8 ],\n",
       "       [ 12.96],\n",
       "       [ 23.8 ],\n",
       "       [ 19.75],\n",
       "       [ 13.5 ],\n",
       "       [  7.3 ],\n",
       "       [ 12.36],\n",
       "       [ 14.1 ],\n",
       "       [  8.8 ],\n",
       "       [ 19.1 ],\n",
       "       [ 36.3 ],\n",
       "       [ 15.35],\n",
       "       [  8.8 ],\n",
       "       [ 13.3 ],\n",
       "       [ 19.3 ],\n",
       "       [ 26.8 ],\n",
       "       [ 24.35],\n",
       "       [  6.3 ],\n",
       "       [ 70.27],\n",
       "       [ 12.96],\n",
       "       [ 12.95],\n",
       "       [  6.96],\n",
       "       [  7.8 ],\n",
       "       [ 12.3 ]])"
      ]
     },
     "execution_count": 27,
     "metadata": {},
     "output_type": "execute_result"
    }
   ],
   "source": [
    "#slicing inorder to know the range gap to work with \n",
    "w = w[:,np.newaxis]\n",
    "w"
   ]
  },
  {
   "cell_type": "code",
   "execution_count": 28,
   "id": "4f3f4ea8",
   "metadata": {},
   "outputs": [
    {
     "data": {
      "text/plain": [
       "(200, 1)"
      ]
     },
     "execution_count": 28,
     "metadata": {},
     "output_type": "execute_result"
    }
   ],
   "source": [
    "#knowing the size of the model that ur training\n",
    "w.shape\n"
   ]
  },
  {
   "cell_type": "code",
   "execution_count": 29,
   "id": "0e609166",
   "metadata": {},
   "outputs": [
    {
     "name": "stderr",
     "output_type": "stream",
     "text": [
      "C:\\Users\\Adequate Minister\\AppData\\Local\\Temp\\ipykernel_7072\\1064399418.py:2: FutureWarning: Support for multi-dimensional indexing (e.g. `obj[:, None]`) is deprecated and will be removed in a future version.  Convert to a numpy array before indexing instead.\n",
      "  x = y[:,np.newaxis]\n"
     ]
    },
    {
     "data": {
      "text/plain": [
       "array([[ 4.08],\n",
       "       [ 0.  ],\n",
       "       [ 0.  ],\n",
       "       [ 1.65],\n",
       "       [ 5.7 ],\n",
       "       [ 4.86],\n",
       "       [ 2.14],\n",
       "       [ 0.  ],\n",
       "       [ 2.5 ],\n",
       "       [ 0.  ],\n",
       "       [ 1.5 ],\n",
       "       [ 2.26],\n",
       "       [ 2.85],\n",
       "       [ 0.  ],\n",
       "       [ 0.  ],\n",
       "       [ 3.54],\n",
       "       [10.33],\n",
       "       [ 1.55],\n",
       "       [ 0.  ],\n",
       "       [ 0.  ],\n",
       "       [ 7.15],\n",
       "       [ 0.  ],\n",
       "       [ 2.05],\n",
       "       [ 0.  ],\n",
       "       [ 3.5 ],\n",
       "       [ 2.  ],\n",
       "       [ 1.96],\n",
       "       [ 0.  ],\n",
       "       [ 2.55],\n",
       "       [ 4.55],\n",
       "       [ 1.95],\n",
       "       [ 3.75],\n",
       "       [ 3.  ],\n",
       "       [ 1.  ],\n",
       "       [ 1.5 ],\n",
       "       [ 2.66],\n",
       "       [ 5.  ],\n",
       "       [ 5.  ],\n",
       "       [ 2.16],\n",
       "       [ 2.16],\n",
       "       [ 0.  ],\n",
       "       [ 3.76],\n",
       "       [ 0.  ],\n",
       "       [ 4.66],\n",
       "       [ 0.  ],\n",
       "       [ 2.07],\n",
       "       [ 0.  ],\n",
       "       [ 2.85],\n",
       "       [ 0.  ],\n",
       "       [ 2.36],\n",
       "       [ 3.  ],\n",
       "       [ 0.  ],\n",
       "       [ 2.16],\n",
       "       [ 0.  ],\n",
       "       [10.48],\n",
       "       [ 1.5 ],\n",
       "       [ 0.  ],\n",
       "       [ 2.36],\n",
       "       [ 2.86],\n",
       "       [ 0.  ],\n",
       "       [ 2.45],\n",
       "       [ 0.  ],\n",
       "       [ 2.46],\n",
       "       [ 1.66],\n",
       "       [ 2.55],\n",
       "       [ 0.  ],\n",
       "       [ 3.56],\n",
       "       [ 1.5 ],\n",
       "       [ 0.  ],\n",
       "       [ 3.35],\n",
       "       [ 1.5 ],\n",
       "       [ 2.  ],\n",
       "       [ 3.5 ],\n",
       "       [ 0.  ],\n",
       "       [ 2.  ],\n",
       "       [ 0.  ],\n",
       "       [ 0.  ],\n",
       "       [ 0.  ],\n",
       "       [ 1.84],\n",
       "       [ 3.96],\n",
       "       [ 2.  ],\n",
       "       [ 0.  ],\n",
       "       [ 2.52],\n",
       "       [ 0.  ],\n",
       "       [ 0.75],\n",
       "       [ 0.  ],\n",
       "       [ 2.66],\n",
       "       [ 2.06],\n",
       "       [ 5.26],\n",
       "       [ 4.7 ],\n",
       "       [ 0.  ],\n",
       "       [ 2.2 ],\n",
       "       [ 0.  ],\n",
       "       [ 5.  ],\n",
       "       [ 0.  ],\n",
       "       [ 3.2 ],\n",
       "       [ 2.25],\n",
       "       [ 1.  ],\n",
       "       [ 3.95],\n",
       "       [ 5.  ],\n",
       "       [ 1.7 ],\n",
       "       [ 1.66],\n",
       "       [ 1.55],\n",
       "       [ 1.7 ],\n",
       "       [ 1.2 ],\n",
       "       [ 0.  ],\n",
       "       [ 2.44],\n",
       "       [ 1.  ],\n",
       "       [ 0.  ],\n",
       "       [ 2.06],\n",
       "       [ 1.65],\n",
       "       [ 0.76],\n",
       "       [ 2.66],\n",
       "       [ 0.  ],\n",
       "       [ 1.07],\n",
       "       [ 9.8 ],\n",
       "       [ 0.  ],\n",
       "       [ 1.  ],\n",
       "       [ 0.  ],\n",
       "       [ 1.95],\n",
       "       [ 2.26],\n",
       "       [ 0.  ],\n",
       "       [ 1.16],\n",
       "       [ 1.35],\n",
       "       [ 1.03],\n",
       "       [ 0.  ],\n",
       "       [ 0.  ],\n",
       "       [ 5.36],\n",
       "       [ 3.  ],\n",
       "       [ 0.  ],\n",
       "       [ 5.  ],\n",
       "       [ 1.56],\n",
       "       [ 1.65],\n",
       "       [ 0.  ],\n",
       "       [14.64],\n",
       "       [ 1.  ],\n",
       "       [ 0.  ],\n",
       "       [ 2.25],\n",
       "       [ 0.  ],\n",
       "       [ 1.  ],\n",
       "       [ 1.55],\n",
       "       [ 1.  ],\n",
       "       [ 1.56],\n",
       "       [ 4.95],\n",
       "       [ 1.46],\n",
       "       [ 0.  ],\n",
       "       [ 1.55],\n",
       "       [ 1.76],\n",
       "       [ 0.  ],\n",
       "       [ 1.36],\n",
       "       [ 1.55],\n",
       "       [ 2.75],\n",
       "       [ 0.  ],\n",
       "       [ 5.  ],\n",
       "       [ 5.28],\n",
       "       [ 0.  ],\n",
       "       [ 2.86],\n",
       "       [ 0.  ],\n",
       "       [ 1.03],\n",
       "       [ 1.16],\n",
       "       [ 0.  ],\n",
       "       [ 9.5 ],\n",
       "       [ 1.86],\n",
       "       [ 2.65],\n",
       "       [ 0.  ],\n",
       "       [ 0.5 ],\n",
       "       [ 7.45],\n",
       "       [ 2.86],\n",
       "       [ 0.  ],\n",
       "       [ 4.55],\n",
       "       [ 1.  ],\n",
       "       [ 3.26],\n",
       "       [ 2.2 ],\n",
       "       [ 2.08],\n",
       "       [ 0.  ],\n",
       "       [ 0.  ],\n",
       "       [ 1.5 ],\n",
       "       [ 2.16],\n",
       "       [ 1.  ],\n",
       "       [ 3.95],\n",
       "       [ 2.7 ],\n",
       "       [ 0.  ],\n",
       "       [ 2.06],\n",
       "       [ 2.8 ],\n",
       "       [ 0.  ],\n",
       "       [ 3.8 ],\n",
       "       [ 0.  ],\n",
       "       [ 2.55],\n",
       "       [ 1.  ],\n",
       "       [ 0.  ],\n",
       "       [ 3.  ],\n",
       "       [ 0.  ],\n",
       "       [ 4.05],\n",
       "       [ 0.  ],\n",
       "       [11.71],\n",
       "       [ 2.16],\n",
       "       [ 2.15],\n",
       "       [ 1.16],\n",
       "       [ 0.  ],\n",
       "       [ 1.  ]])"
      ]
     },
     "execution_count": 29,
     "metadata": {},
     "output_type": "execute_result"
    }
   ],
   "source": [
    "#fitting a model x into y\n",
    "x = y[:,np.newaxis]\n",
    "x"
   ]
  },
  {
   "cell_type": "code",
   "execution_count": 30,
   "id": "ef49f6e9",
   "metadata": {},
   "outputs": [
    {
     "data": {
      "text/html": [
       "<style>#sk-container-id-2 {color: black;background-color: white;}#sk-container-id-2 pre{padding: 0;}#sk-container-id-2 div.sk-toggleable {background-color: white;}#sk-container-id-2 label.sk-toggleable__label {cursor: pointer;display: block;width: 100%;margin-bottom: 0;padding: 0.3em;box-sizing: border-box;text-align: center;}#sk-container-id-2 label.sk-toggleable__label-arrow:before {content: \"▸\";float: left;margin-right: 0.25em;color: #696969;}#sk-container-id-2 label.sk-toggleable__label-arrow:hover:before {color: black;}#sk-container-id-2 div.sk-estimator:hover label.sk-toggleable__label-arrow:before {color: black;}#sk-container-id-2 div.sk-toggleable__content {max-height: 0;max-width: 0;overflow: hidden;text-align: left;background-color: #f0f8ff;}#sk-container-id-2 div.sk-toggleable__content pre {margin: 0.2em;color: black;border-radius: 0.25em;background-color: #f0f8ff;}#sk-container-id-2 input.sk-toggleable__control:checked~div.sk-toggleable__content {max-height: 200px;max-width: 100%;overflow: auto;}#sk-container-id-2 input.sk-toggleable__control:checked~label.sk-toggleable__label-arrow:before {content: \"▾\";}#sk-container-id-2 div.sk-estimator input.sk-toggleable__control:checked~label.sk-toggleable__label {background-color: #d4ebff;}#sk-container-id-2 div.sk-label input.sk-toggleable__control:checked~label.sk-toggleable__label {background-color: #d4ebff;}#sk-container-id-2 input.sk-hidden--visually {border: 0;clip: rect(1px 1px 1px 1px);clip: rect(1px, 1px, 1px, 1px);height: 1px;margin: -1px;overflow: hidden;padding: 0;position: absolute;width: 1px;}#sk-container-id-2 div.sk-estimator {font-family: monospace;background-color: #f0f8ff;border: 1px dotted black;border-radius: 0.25em;box-sizing: border-box;margin-bottom: 0.5em;}#sk-container-id-2 div.sk-estimator:hover {background-color: #d4ebff;}#sk-container-id-2 div.sk-parallel-item::after {content: \"\";width: 100%;border-bottom: 1px solid gray;flex-grow: 1;}#sk-container-id-2 div.sk-label:hover label.sk-toggleable__label {background-color: #d4ebff;}#sk-container-id-2 div.sk-serial::before {content: \"\";position: absolute;border-left: 1px solid gray;box-sizing: border-box;top: 0;bottom: 0;left: 50%;z-index: 0;}#sk-container-id-2 div.sk-serial {display: flex;flex-direction: column;align-items: center;background-color: white;padding-right: 0.2em;padding-left: 0.2em;position: relative;}#sk-container-id-2 div.sk-item {position: relative;z-index: 1;}#sk-container-id-2 div.sk-parallel {display: flex;align-items: stretch;justify-content: center;background-color: white;position: relative;}#sk-container-id-2 div.sk-item::before, #sk-container-id-2 div.sk-parallel-item::before {content: \"\";position: absolute;border-left: 1px solid gray;box-sizing: border-box;top: 0;bottom: 0;left: 50%;z-index: -1;}#sk-container-id-2 div.sk-parallel-item {display: flex;flex-direction: column;z-index: 1;position: relative;background-color: white;}#sk-container-id-2 div.sk-parallel-item:first-child::after {align-self: flex-end;width: 50%;}#sk-container-id-2 div.sk-parallel-item:last-child::after {align-self: flex-start;width: 50%;}#sk-container-id-2 div.sk-parallel-item:only-child::after {width: 0;}#sk-container-id-2 div.sk-dashed-wrapped {border: 1px dashed gray;margin: 0 0.4em 0.5em 0.4em;box-sizing: border-box;padding-bottom: 0.4em;background-color: white;}#sk-container-id-2 div.sk-label label {font-family: monospace;font-weight: bold;display: inline-block;line-height: 1.2em;}#sk-container-id-2 div.sk-label-container {text-align: center;}#sk-container-id-2 div.sk-container {/* jupyter's `normalize.less` sets `[hidden] { display: none; }` but bootstrap.min.css set `[hidden] { display: none !important; }` so we also need the `!important` here to be able to override the default hidden behavior on the sphinx rendered scikit-learn.org. See: https://github.com/scikit-learn/scikit-learn/issues/21755 */display: inline-block !important;position: relative;}#sk-container-id-2 div.sk-text-repr-fallback {display: none;}</style><div id=\"sk-container-id-2\" class=\"sk-top-container\"><div class=\"sk-text-repr-fallback\"><pre>LinearRegression()</pre><b>In a Jupyter environment, please rerun this cell to show the HTML representation or trust the notebook. <br />On GitHub, the HTML representation is unable to render, please try loading this page with nbviewer.org.</b></div><div class=\"sk-container\" hidden><div class=\"sk-item\"><div class=\"sk-estimator sk-toggleable\"><input class=\"sk-toggleable__control sk-hidden--visually\" id=\"sk-estimator-id-2\" type=\"checkbox\" checked><label for=\"sk-estimator-id-2\" class=\"sk-toggleable__label sk-toggleable__label-arrow\">LinearRegression</label><div class=\"sk-toggleable__content\"><pre>LinearRegression()</pre></div></div></div></div></div>"
      ],
      "text/plain": [
       "LinearRegression()"
      ]
     },
     "execution_count": 30,
     "metadata": {},
     "output_type": "execute_result"
    }
   ],
   "source": [
    "#training model w,x\n",
    "Training_model.fit(w,x)"
   ]
  },
  {
   "cell_type": "code",
   "execution_count": 31,
   "id": "48e75570",
   "metadata": {},
   "outputs": [
    {
     "data": {
      "text/plain": [
       "array([[0.06644438]])"
      ]
     },
     "execution_count": 31,
     "metadata": {},
     "output_type": "execute_result"
    }
   ],
   "source": [
    "#coefficient  of the model being trained\n",
    "Training_model.coef_"
   ]
  },
  {
   "cell_type": "code",
   "execution_count": 32,
   "id": "cd98b6e3",
   "metadata": {},
   "outputs": [
    {
     "data": {
      "text/plain": [
       "array([0.67475668])"
      ]
     },
     "execution_count": 32,
     "metadata": {},
     "output_type": "execute_result"
    }
   ],
   "source": [
    "#intercept of model\n",
    "Training_model.intercept_"
   ]
  },
  {
   "cell_type": "code",
   "execution_count": 48,
   "id": "5f0d3cce",
   "metadata": {},
   "outputs": [
    {
     "data": {
      "text/plain": [
       "array([ -1.        ,   1.06122449,   3.12244898,   5.18367347,\n",
       "         7.24489796,   9.30612245,  11.36734694,  13.42857143,\n",
       "        15.48979592,  17.55102041,  19.6122449 ,  21.67346939,\n",
       "        23.73469388,  25.79591837,  27.85714286,  29.91836735,\n",
       "        31.97959184,  34.04081633,  36.10204082,  38.16326531,\n",
       "        40.2244898 ,  42.28571429,  44.34693878,  46.40816327,\n",
       "        48.46938776,  50.53061224,  52.59183673,  54.65306122,\n",
       "        56.71428571,  58.7755102 ,  60.83673469,  62.89795918,\n",
       "        64.95918367,  67.02040816,  69.08163265,  71.14285714,\n",
       "        73.20408163,  75.26530612,  77.32653061,  79.3877551 ,\n",
       "        81.44897959,  83.51020408,  85.57142857,  87.63265306,\n",
       "        89.69387755,  91.75510204,  93.81632653,  95.87755102,\n",
       "        97.93877551, 100.        ])"
      ]
     },
     "execution_count": 48,
     "metadata": {},
     "output_type": "execute_result"
    }
   ],
   "source": [
    "tolls_amount = np.linspace(-1,100)\n",
    "tolls_amount"
   ]
  },
  {
   "cell_type": "code",
   "execution_count": 50,
   "id": "dba263bf",
   "metadata": {},
   "outputs": [
    {
     "data": {
      "text/plain": [
       "array([[ -1.        ],\n",
       "       [  1.06122449],\n",
       "       [  3.12244898],\n",
       "       [  5.18367347],\n",
       "       [  7.24489796],\n",
       "       [  9.30612245],\n",
       "       [ 11.36734694],\n",
       "       [ 13.42857143],\n",
       "       [ 15.48979592],\n",
       "       [ 17.55102041],\n",
       "       [ 19.6122449 ],\n",
       "       [ 21.67346939],\n",
       "       [ 23.73469388],\n",
       "       [ 25.79591837],\n",
       "       [ 27.85714286],\n",
       "       [ 29.91836735],\n",
       "       [ 31.97959184],\n",
       "       [ 34.04081633],\n",
       "       [ 36.10204082],\n",
       "       [ 38.16326531],\n",
       "       [ 40.2244898 ],\n",
       "       [ 42.28571429],\n",
       "       [ 44.34693878],\n",
       "       [ 46.40816327],\n",
       "       [ 48.46938776],\n",
       "       [ 50.53061224],\n",
       "       [ 52.59183673],\n",
       "       [ 54.65306122],\n",
       "       [ 56.71428571],\n",
       "       [ 58.7755102 ],\n",
       "       [ 60.83673469],\n",
       "       [ 62.89795918],\n",
       "       [ 64.95918367],\n",
       "       [ 67.02040816],\n",
       "       [ 69.08163265],\n",
       "       [ 71.14285714],\n",
       "       [ 73.20408163],\n",
       "       [ 75.26530612],\n",
       "       [ 77.32653061],\n",
       "       [ 79.3877551 ],\n",
       "       [ 81.44897959],\n",
       "       [ 83.51020408],\n",
       "       [ 85.57142857],\n",
       "       [ 87.63265306],\n",
       "       [ 89.69387755],\n",
       "       [ 91.75510204],\n",
       "       [ 93.81632653],\n",
       "       [ 95.87755102],\n",
       "       [ 97.93877551],\n",
       "       [100.        ]])"
      ]
     },
     "execution_count": 50,
     "metadata": {},
     "output_type": "execute_result"
    }
   ],
   "source": [
    "tolls_amount = tolls_amount[:,np.newaxis]\n",
    "tolls_amount"
   ]
  },
  {
   "cell_type": "code",
   "execution_count": 51,
   "id": "2355ad81",
   "metadata": {},
   "outputs": [
    {
     "data": {
      "text/plain": [
       "array([[0.6083123 ],\n",
       "       [0.74526909],\n",
       "       [0.88222587],\n",
       "       [1.01918266],\n",
       "       [1.15613945],\n",
       "       [1.29309623],\n",
       "       [1.43005302],\n",
       "       [1.5670098 ],\n",
       "       [1.70396659],\n",
       "       [1.84092338],\n",
       "       [1.97788016],\n",
       "       [2.11483695],\n",
       "       [2.25179373],\n",
       "       [2.38875052],\n",
       "       [2.52570731],\n",
       "       [2.66266409],\n",
       "       [2.79962088],\n",
       "       [2.93657766],\n",
       "       [3.07353445],\n",
       "       [3.21049124],\n",
       "       [3.34744802],\n",
       "       [3.48440481],\n",
       "       [3.62136159],\n",
       "       [3.75831838],\n",
       "       [3.89527517],\n",
       "       [4.03223195],\n",
       "       [4.16918874],\n",
       "       [4.30614552],\n",
       "       [4.44310231],\n",
       "       [4.5800591 ],\n",
       "       [4.71701588],\n",
       "       [4.85397267],\n",
       "       [4.99092946],\n",
       "       [5.12788624],\n",
       "       [5.26484303],\n",
       "       [5.40179981],\n",
       "       [5.5387566 ],\n",
       "       [5.67571339],\n",
       "       [5.81267017],\n",
       "       [5.94962696],\n",
       "       [6.08658374],\n",
       "       [6.22354053],\n",
       "       [6.36049732],\n",
       "       [6.4974541 ],\n",
       "       [6.63441089],\n",
       "       [6.77136767],\n",
       "       [6.90832446],\n",
       "       [7.04528125],\n",
       "       [7.18223803],\n",
       "       [7.31919482]])"
      ]
     },
     "execution_count": 51,
     "metadata": {},
     "output_type": "execute_result"
    }
   ],
   "source": [
    "#testing the model\n",
    "#through predicting\n",
    "passenger_count =Training_model.predict(tolls_amount)\n",
    "passenger_count"
   ]
  },
  {
   "cell_type": "code",
   "execution_count": 52,
   "id": "e88e9bbb",
   "metadata": {},
   "outputs": [
    {
     "data": {
      "image/png": "[encoded data removed]",
      "text/plain": [
       "<Figure size 432x288 with 1 Axes>"
      ]
     },
     "metadata": {
      "needs_background": "light"
     },
     "output_type": "display_data"
    }
   ],
   "source": [
    "plt.scatter(w,x);"
   ]
  },
  {
   "cell_type": "code",
   "execution_count": 58,
   "id": "4fa7b0e2",
   "metadata": {},
   "outputs": [
    {
     "data": {
      "text/plain": [
       "<matplotlib.collections.PathCollection at 0x23b1f24a170>"
      ]
     },
     "execution_count": 58,
     "metadata": {},
     "output_type": "execute_result"
    },
    {
     "data": {
      "image/png": "[encoded data removed]",
      "text/plain": [
       "<Figure size 432x288 with 1 Axes>"
      ]
     },
     "metadata": {
      "needs_background": "light"
     },
     "output_type": "display_data"
    }
   ],
   "source": [
    "plt.scatter(w,x);\n",
    "plt.scatter(passenger_count,tolls_amount)\n"
   ]
  },
  {
   "cell_type": "code",
   "execution_count": null,
   "id": "acdf7d16",
   "metadata": {},
   "outputs": [],
   "source": [
    "the trip distance,the fare amount intercept at zero"
   ]
  },
  {
   "cell_type": "code",
   "execution_count": 62,
   "id": "3c95097f",
   "metadata": {},
   "outputs": [
    {
     "data": {
      "text/plain": [
       "<matplotlib.collections.PathCollection at 0x23b1f3f9d20>"
      ]
     },
     "execution_count": 62,
     "metadata": {},
     "output_type": "execute_result"
    },
    {
     "data": {
      "image/png": "[encoded data removed]",
      "text/plain": [
       "<Figure size 432x288 with 1 Axes>"
      ]
     },
     "metadata": {
      "needs_background": "light"
     },
     "output_type": "display_data"
    }
   ],
   "source": [
    "plt.scatter(w,x);\n",
    "plt.scatter(t,y);\n",
    "plt.scatter(passenger_count,tolls_amount)"
   ]
  },
  {
   "cell_type": "markdown",
   "id": "391c6246",
   "metadata": {},
   "source": [
    "as the toatl amount and the trip amount are high,the passenger count and the tolls numbers are very low w and sois the fare amount and the tip distance   "
   ]
  },
  {
   "cell_type": "code",
   "execution_count": 54,
   "id": "b942114f",
   "metadata": {},
   "outputs": [
    {
     "data": {
      "image/png": "[encoded data removed]",
      "text/plain": [
       "<Figure size 432x288 with 1 Axes>"
      ]
     },
     "metadata": {
      "needs_background": "light"
     },
     "output_type": "display_data"
    }
   ],
   "source": [
    "plt.scatter(w,x);\n",
    "plt.scatter(t,y);\n"
   ]
  },
  {
   "cell_type": "markdown",
   "id": "60bb0d11",
   "metadata": {},
   "source": [
    "as the trip distance and total amount is at their  highest  , the fare amount and tip amount are moderate"
   ]
  },
  {
   "cell_type": "code",
   "execution_count": null,
   "id": "f8ac0253",
   "metadata": {},
   "outputs": [],
   "source": []
  },
  {
   "cell_type": "code",
   "execution_count": null,
   "id": "b191e68d",
   "metadata": {},
   "outputs": [],
   "source": []
  },
  {
   "cell_type": "code",
   "execution_count": null,
   "id": "c3d2cc5d",
   "metadata": {},
   "outputs": [],
   "source": []
  }
 ],
 "metadata": {
  "kernelspec": {
   "display_name": "Python 3 (ipykernel)",
   "language": "python",
   "name": "python3"
  },
  "language_info": {
   "codemirror_mode": {
    "name": "ipython",
    "version": 3
   },
   "file_extension": ".py",
   "mimetype": "text/x-python",
   "name": "python",
   "nbconvert_exporter": "python",
   "pygments_lexer": "ipython3",
   "version": "3.10.5"
  }
 },
 "nbformat": 4,
 "nbformat_minor": 5
}
